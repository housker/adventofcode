{
 "cells": [
  {
   "cell_type": "code",
   "execution_count": null,
   "id": "f20553d6-7a86-487a-9ad5-f9bc174f6ed8",
   "metadata": {},
   "outputs": [],
   "source": [
    "from aocd import get_data\n",
    "from utils.parsers import Parsable2D\n",
    "from functools import reduce"
   ]
  },
  {
   "cell_type": "code",
   "execution_count": null,
   "id": "15fb28cd-fe5e-4921-8638-9132780822be",
   "metadata": {},
   "outputs": [],
   "source": [
    "data = get_data(day=3, year=2023)\n",
    "parsable = Parsable2D(data)\n",
    "categories = parsable.categorize(r\"\\d+\", r\"[^\\d\\.\\n]\")\n",
    "sum(int(c[\"match\"]) for c in categories if len(c[\"overlaps\"]))"
   ]
  },
  {
   "cell_type": "code",
   "execution_count": null,
   "id": "1fd2a0f1-6ebf-4559-b22a-15c5c639554e",
   "metadata": {},
   "outputs": [],
   "source": [
    "parsable = Parsable2D(data)\n",
    "categories = parsable.categorize(r\"[^\\d\\.\\n]\", r\"\\d+\")\n",
    "doubles = [c[\"overlaps\"] for c in categories if len(c[\"overlaps\"]) == 2]\n",
    "total = reduce((lambda x, y: x + int(y[0]) * int(y[1])), doubles, 0)\n",
    "total"
   ]
  },
  {
   "cell_type": "code",
   "execution_count": null,
   "id": "d6c02077-f786-41cc-b88a-340095710171",
   "metadata": {},
   "outputs": [],
   "source": []
  }
 ],
 "metadata": {
  "kernelspec": {
   "display_name": "Python 3 (ipykernel)",
   "language": "python",
   "name": "python3"
  },
  "language_info": {
   "codemirror_mode": {
    "name": "ipython",
    "version": 3
   },
   "file_extension": ".py",
   "mimetype": "text/x-python",
   "name": "python",
   "nbconvert_exporter": "python",
   "pygments_lexer": "ipython3",
   "version": "3.10.13"
  }
 },
 "nbformat": 4,
 "nbformat_minor": 5
}
