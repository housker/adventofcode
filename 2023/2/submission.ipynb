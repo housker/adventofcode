{
 "cells": [
  {
   "cell_type": "code",
   "execution_count": null,
   "id": "6f007bb6-cc0c-4197-9ac0-904a08e6e812",
   "metadata": {},
   "outputs": [],
   "source": [
    "import math\n",
    "import re\n",
    "from aocd import get_data\n",
    "from utils.parsers import Parsable"
   ]
  },
  {
   "cell_type": "code",
   "execution_count": null,
   "id": "8985dabe-dd87-484f-b305-aa258f928dbc",
   "metadata": {},
   "outputs": [],
   "source": [
    "data = get_data(day=2, year=2023)"
   ]
  },
  {
   "cell_type": "code",
   "execution_count": null,
   "id": "658d1f66-356b-495f-bd91-ed9ea1f692c7",
   "metadata": {},
   "outputs": [],
   "source": [
    "total = 0\n",
    "for line in data.splitlines():\n",
    "    game, *rounds = re.split(\":|;\", line)\n",
    "    game_id = int(re.search(r\"\\d+\", game)[0])\n",
    "\n",
    "    for round in rounds:\n",
    "        round = Parsable(round)\n",
    "        matches = round.categorize(\"\\d+\", la_patrn=(\" red\", \" green\", \" blue\"))\n",
    "        is_possible = matches[\"a\"] < 13 and matches[\"b\"] < 14 and matches[\"c\"] < 15\n",
    "        if not is_possible:\n",
    "            break\n",
    "    if is_possible:\n",
    "        total += game_id\n",
    "total"
   ]
  },
  {
   "cell_type": "code",
   "execution_count": null,
   "id": "f94c2c98-f1b7-40fb-a8f2-bd267457804b",
   "metadata": {},
   "outputs": [],
   "source": [
    "total = 0\n",
    "for line in data.splitlines():\n",
    "    game, *rounds = re.split(\":|;\", line)\n",
    "    game_id = int(re.search(r\"\\d+\", game)[0])\n",
    "\n",
    "    maxes = []\n",
    "    for round in rounds:\n",
    "        round = Parsable(round)\n",
    "        matches = round.categorize(\"\\d+\", la_patrn=(\" red\", \" green\", \" blue\"))\n",
    "        maxes.append(matches)\n",
    "    maxes = [max([m[\"a\"] for m in maxes]), max([m[\"b\"] for m in maxes]), max([m[\"c\"] for m in maxes])]\n",
    "    total += math.prod(maxes)\n",
    "\n",
    "total  "
   ]
  }
 ],
 "metadata": {
  "kernelspec": {
   "display_name": "Python 3 (ipykernel)",
   "language": "python",
   "name": "python3"
  },
  "language_info": {
   "codemirror_mode": {
    "name": "ipython",
    "version": 3
   },
   "file_extension": ".py",
   "mimetype": "text/x-python",
   "name": "python",
   "nbconvert_exporter": "python",
   "pygments_lexer": "ipython3",
   "version": "3.10.13"
  }
 },
 "nbformat": 4,
 "nbformat_minor": 5
}
