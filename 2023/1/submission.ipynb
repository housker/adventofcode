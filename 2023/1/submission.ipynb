{
 "cells": [
  {
   "cell_type": "code",
   "execution_count": null,
   "id": "785ab3c1-ceef-4942-8524-223c69f2e2a0",
   "metadata": {},
   "outputs": [],
   "source": [
    "pip install word2number"
   ]
  },
  {
   "cell_type": "code",
   "execution_count": null,
   "id": "c6b77983-1d0b-4b8d-b003-e8abeda30184",
   "metadata": {},
   "outputs": [],
   "source": [
    "from aocd import get_data\n",
    "from word2number import w2n\n",
    "import re"
   ]
  },
  {
   "cell_type": "code",
   "execution_count": null,
   "id": "a4e53496-a352-4446-952e-fa5d29ba4892",
   "metadata": {},
   "outputs": [],
   "source": [
    "data = get_data(day=1, year=2023)\n",
    "total = 0\n",
    "for line in data.splitlines():\n",
    "    match = re.findall(r\"\\d\", line)\n",
    "    val = match[0] + match[-1]\n",
    "    total += int(val)\n",
    "total"
   ]
  },
  {
   "cell_type": "code",
   "execution_count": null,
   "id": "92d26c25-06e6-4f3e-ac0f-5029bac64532",
   "metadata": {},
   "outputs": [],
   "source": [
    "total = 0\n",
    "pattern = r\"\\d|one|two|three|four|five|six|seven|eight|nine\"\n",
    "for line in data.splitlines():\n",
    "    match = re.findall(pattern, line)\n",
    "    val = str(w2n.word_to_num(match[0])) + str(w2n.word_to_num(match[-1]))\n",
    "    total += int(val)\n",
    "total"
   ]
  },
  {
   "cell_type": "code",
   "execution_count": null,
   "id": "75c24d4a-7d08-41bd-8dd9-fac69dc60616",
   "metadata": {},
   "outputs": [],
   "source": []
  }
 ],
 "metadata": {
  "kernelspec": {
   "display_name": "Python 3 (ipykernel)",
   "language": "python",
   "name": "python3"
  },
  "language_info": {
   "codemirror_mode": {
    "name": "ipython",
    "version": 3
   },
   "file_extension": ".py",
   "mimetype": "text/x-python",
   "name": "python",
   "nbconvert_exporter": "python",
   "pygments_lexer": "ipython3",
   "version": "3.10.13"
  }
 },
 "nbformat": 4,
 "nbformat_minor": 5
}
